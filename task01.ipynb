{
 "cells": [
  {
   "cell_type": "code",
   "execution_count": null,
   "id": "1c1a712b",
   "metadata": {},
   "outputs": [],
   "source": [
    "# Даны две независимые выборки. Не соблюдается условие нормальности\n",
    "# x1 380,420, 290\n",
    "# y1 140,360,200,900\n",
    "# Сделайте вывод по результатам, полученным с помощью функции, имеются ли статистические различия между группами?"
   ]
  },
  {
   "cell_type": "code",
   "execution_count": 4,
   "id": "22637a13",
   "metadata": {},
   "outputs": [],
   "source": [
    "import numpy as np \n",
    "import scipy.stats as stats"
   ]
  },
  {
   "cell_type": "code",
   "execution_count": 5,
   "id": "117e6087",
   "metadata": {},
   "outputs": [],
   "source": [
    "x = np.array([380, 420, 290])\n",
    "y = np.array([140,360,200,900])"
   ]
  },
  {
   "cell_type": "code",
   "execution_count": 6,
   "id": "6aa93541",
   "metadata": {},
   "outputs": [
    {
     "data": {
      "text/plain": [
       "MannwhitneyuResult(statistic=8.0, pvalue=0.6285714285714286)"
      ]
     },
     "execution_count": 6,
     "metadata": {},
     "output_type": "execute_result"
    }
   ],
   "source": [
    "stats.mannwhitneyu(x, y)"
   ]
  },
  {
   "cell_type": "code",
   "execution_count": null,
   "id": "ecf8a9de",
   "metadata": {},
   "outputs": [],
   "source": [
    "# Статистически значимые различия на уровне значимости alpha = 0.05 не обнаружены. Различия между группами нет."
   ]
  }
 ],
 "metadata": {
  "kernelspec": {
   "display_name": "Python 3 (ipykernel)",
   "language": "python",
   "name": "python3"
  },
  "language_info": {
   "codemirror_mode": {
    "name": "ipython",
    "version": 3
   },
   "file_extension": ".py",
   "mimetype": "text/x-python",
   "name": "python",
   "nbconvert_exporter": "python",
   "pygments_lexer": "ipython3",
   "version": "3.10.9"
  }
 },
 "nbformat": 4,
 "nbformat_minor": 5
}
