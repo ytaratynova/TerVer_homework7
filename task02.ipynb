{
 "cells": [
  {
   "cell_type": "code",
   "execution_count": 1,
   "id": "d28c46d9",
   "metadata": {},
   "outputs": [],
   "source": [
    "# Исследовалось влияние препарата на уровень давления пациентов. Сначала\n",
    "# измерялось давление до приема препарата, потом через 10 минут и через 30 минут. Есть\n",
    "# ли статистически значимые различия между измерениями давления? В выборках не соблюдается условие нормальности.\n",
    "# 1е измерение до приема препарата: 150, 160, 165, 145, 155\n",
    "# 2е измерение через 10 минут: 140, 155, 150, 130, 135\n",
    "# 3е измерение через 30 минут: 130, 130, 120, 130, 125"
   ]
  },
  {
   "cell_type": "code",
   "execution_count": 8,
   "id": "2765816e",
   "metadata": {},
   "outputs": [],
   "source": [
    "import numpy as np \n",
    "import scipy.stats as stats"
   ]
  },
  {
   "cell_type": "code",
   "execution_count": 11,
   "id": "f33dd76c",
   "metadata": {},
   "outputs": [],
   "source": [
    "befor = np.array([150, 160, 165, 145, 155])\n",
    "after_10 = np.array([140, 155, 150, 130, 135])\n",
    "after_30 = np.array([130, 130, 120, 130, 125])"
   ]
  },
  {
   "cell_type": "code",
   "execution_count": 12,
   "id": "bd5fbede",
   "metadata": {},
   "outputs": [
    {
     "data": {
      "text/plain": [
       "FriedmanchisquareResult(statistic=9.578947368421062, pvalue=0.00831683351100441)"
      ]
     },
     "execution_count": 12,
     "metadata": {},
     "output_type": "execute_result"
    }
   ],
   "source": [
    "stats.friedmanchisquare(befor, after_10, after_30)"
   ]
  },
  {
   "cell_type": "code",
   "execution_count": null,
   "id": "cb945308",
   "metadata": {},
   "outputs": [],
   "source": [
    "# Обнаружены статистически значимые различия на уровне значимости alpha = 0.05. Лекарство работает."
   ]
  },
  {
   "cell_type": "code",
   "execution_count": null,
   "id": "0420fdde",
   "metadata": {},
   "outputs": [],
   "source": []
  }
 ],
 "metadata": {
  "kernelspec": {
   "display_name": "Python 3 (ipykernel)",
   "language": "python",
   "name": "python3"
  },
  "language_info": {
   "codemirror_mode": {
    "name": "ipython",
    "version": 3
   },
   "file_extension": ".py",
   "mimetype": "text/x-python",
   "name": "python",
   "nbconvert_exporter": "python",
   "pygments_lexer": "ipython3",
   "version": "3.10.9"
  }
 },
 "nbformat": 4,
 "nbformat_minor": 5
}
