{
 "cells": [
  {
   "cell_type": "code",
   "execution_count": null,
   "id": "5d7e853d",
   "metadata": {},
   "outputs": [],
   "source": [
    "# Исследовалось влияние препарата на уровень давления пациентов. Сначала\n",
    "# измерялось давление до приема препарата, потом через 10 минут. Есть\n",
    "# ли статистически значимые различия между измерениями давления? В выборках не соблюдается условие нормальности.\n",
    "# 1е измерение до приема препарата: 150, 160, 165, 145, 155\n",
    "# 2е измерение через 10 минут: 140, 155, 150, 130, 135"
   ]
  },
  {
   "cell_type": "code",
   "execution_count": 1,
   "id": "1a79e72b",
   "metadata": {},
   "outputs": [],
   "source": [
    "import numpy as np \n",
    "import scipy.stats as stats"
   ]
  },
  {
   "cell_type": "code",
   "execution_count": 2,
   "id": "b67dc2bb",
   "metadata": {},
   "outputs": [],
   "source": [
    "befor = np.array([150, 160, 165, 145, 155])\n",
    "after_10 = np.array([140, 155, 150, 130, 135])"
   ]
  },
  {
   "cell_type": "code",
   "execution_count": 3,
   "id": "6a20b2d7",
   "metadata": {},
   "outputs": [
    {
     "data": {
      "text/plain": [
       "WilcoxonResult(statistic=0.0, pvalue=0.0625)"
      ]
     },
     "execution_count": 3,
     "metadata": {},
     "output_type": "execute_result"
    }
   ],
   "source": [
    "stats.wilcoxon(befor, after_10)"
   ]
  },
  {
   "cell_type": "code",
   "execution_count": null,
   "id": "5a510475",
   "metadata": {},
   "outputs": [],
   "source": [
    "# Статистически значимые различия на уровне значимости alpha = 0.05 не обнаружены. Лекарство не работает."
   ]
  }
 ],
 "metadata": {
  "kernelspec": {
   "display_name": "Python 3 (ipykernel)",
   "language": "python",
   "name": "python3"
  },
  "language_info": {
   "codemirror_mode": {
    "name": "ipython",
    "version": 3
   },
   "file_extension": ".py",
   "mimetype": "text/x-python",
   "name": "python",
   "nbconvert_exporter": "python",
   "pygments_lexer": "ipython3",
   "version": "3.10.9"
  }
 },
 "nbformat": 4,
 "nbformat_minor": 5
}
