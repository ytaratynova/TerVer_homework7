{
 "cells": [
  {
   "cell_type": "code",
   "execution_count": null,
   "id": "9ba5f1a8",
   "metadata": {},
   "outputs": [],
   "source": [
    "# Даны 3 группы учеников плавания. Не соблюдается условие нормальности.\n",
    "# В 1 группе время на дистанцию 50 м составляют:\n",
    "# 56, 60, 62, 55, 71, 67, 59, 58, 64, 67\n",
    "# Вторая группа : 57, 58, 69, 48, 72, 70, 68, 71, 50, 53\n",
    "# Третья группа: 57, 67, 49, 48, 47, 55, 66, 51, 54\n",
    "# Есть\n",
    "# ли статистически значимые различия между группами?"
   ]
  },
  {
   "cell_type": "code",
   "execution_count": 1,
   "id": "9178b919",
   "metadata": {},
   "outputs": [],
   "source": [
    "import numpy as np \n",
    "import scipy.stats as stats"
   ]
  },
  {
   "cell_type": "code",
   "execution_count": 2,
   "id": "39cd9207",
   "metadata": {},
   "outputs": [],
   "source": [
    "first = np.array([56, 60, 62, 55, 71, 67, 59, 58, 64, 67])\n",
    "second = np.array([57, 58, 69, 48, 72, 70, 68, 71, 50, 53])\n",
    "third = np.array([57, 67, 49, 48, 47, 55, 66, 51, 54])"
   ]
  },
  {
   "cell_type": "code",
   "execution_count": 3,
   "id": "4092a844",
   "metadata": {},
   "outputs": [
    {
     "data": {
      "text/plain": [
       "KruskalResult(statistic=5.465564058257224, pvalue=0.0650380998590494)"
      ]
     },
     "execution_count": 3,
     "metadata": {},
     "output_type": "execute_result"
    }
   ],
   "source": [
    "# 3 независимые группы -> используем Крускала\n",
    "stats.kruskal(first, second, third)"
   ]
  },
  {
   "cell_type": "code",
   "execution_count": null,
   "id": "5a251110",
   "metadata": {},
   "outputs": [],
   "source": [
    "# Статистически значимые различия на уровне значимости alpha = 0.05 не обнаружены. Различия между группами нет."
   ]
  }
 ],
 "metadata": {
  "kernelspec": {
   "display_name": "Python 3 (ipykernel)",
   "language": "python",
   "name": "python3"
  },
  "language_info": {
   "codemirror_mode": {
    "name": "ipython",
    "version": 3
   },
   "file_extension": ".py",
   "mimetype": "text/x-python",
   "name": "python",
   "nbconvert_exporter": "python",
   "pygments_lexer": "ipython3",
   "version": "3.10.9"
  }
 },
 "nbformat": 4,
 "nbformat_minor": 5
}
