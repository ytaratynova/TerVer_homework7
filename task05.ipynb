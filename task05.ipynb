{
 "cells": [
  {
   "cell_type": "code",
   "execution_count": 29,
   "id": "b1a38642",
   "metadata": {},
   "outputs": [],
   "source": [
    "# Заявляется, что партия изготавливается со средним арифметическим 2,5 см. Проверить\n",
    "# данную гипотезу, если известно, что размеры изделий подчинены нормальному закону\n",
    "# распределения. Объем выборки 10, уровень статистической значимости 5%\n",
    "# 2.51, 2.35, 2.74, 2.56, 2.40, 2.36, 2.65, 2.7, 2.67, 2.34"
   ]
  },
  {
   "cell_type": "code",
   "execution_count": 30,
   "id": "5ca502d3",
   "metadata": {},
   "outputs": [],
   "source": [
    "import numpy as np\n",
    "import scipy.stats as stats"
   ]
  },
  {
   "cell_type": "code",
   "execution_count": 31,
   "id": "5a11c029",
   "metadata": {},
   "outputs": [],
   "source": [
    "# H0: M(x) = 2.5\n",
    "# H1: M(x) <> 2.5"
   ]
  },
  {
   "cell_type": "code",
   "execution_count": 32,
   "id": "b80c445b",
   "metadata": {},
   "outputs": [
    {
     "data": {
      "text/plain": [
       "2.5279999999999996"
      ]
     },
     "execution_count": 32,
     "metadata": {},
     "output_type": "execute_result"
    }
   ],
   "source": [
    "x = np.array([2.51, 2.35, 2.74, 2.56, 2.40, 2.36, 2.65, 2.7, 2.67, 2.34])\n",
    "np.mean(x)"
   ]
  },
  {
   "cell_type": "code",
   "execution_count": 33,
   "id": "d77f71c2",
   "metadata": {},
   "outputs": [
    {
     "data": {
      "text/plain": [
       "0.1572542173961923"
      ]
     },
     "execution_count": 33,
     "metadata": {},
     "output_type": "execute_result"
    }
   ],
   "source": [
    "np.std(x, ddof=1)"
   ]
  },
  {
   "cell_type": "code",
   "execution_count": 34,
   "id": "06497be4",
   "metadata": {},
   "outputs": [
    {
     "data": {
      "text/plain": [
       "10"
      ]
     },
     "execution_count": 34,
     "metadata": {},
     "output_type": "execute_result"
    }
   ],
   "source": [
    "len(x)"
   ]
  },
  {
   "cell_type": "code",
   "execution_count": 35,
   "id": "2d167712",
   "metadata": {},
   "outputs": [
    {
     "data": {
      "text/plain": [
       "0.5630613661802959"
      ]
     },
     "execution_count": 35,
     "metadata": {},
     "output_type": "execute_result"
    }
   ],
   "source": [
    "# t(н):\n",
    "t = (np.mean(x) - 2.5)/(np.std(x, ddof=1)/np.sqrt(len(x)))\n",
    "t                       "
   ]
  },
  {
   "cell_type": "code",
   "execution_count": 36,
   "id": "b46ee9e0",
   "metadata": {},
   "outputs": [],
   "source": [
    "# находим t(кр) из t-таблицы, число степеней сводобы = n - 1 = 9\n",
    "# t(кр) = 2.262 и -2.262\n",
    "# Расчетное значение попадает в область принятия HO: партия изготавливается со средним арифметическим 2.5"
   ]
  },
  {
   "cell_type": "code",
   "execution_count": 37,
   "id": "9ce3d624",
   "metadata": {},
   "outputs": [
    {
     "data": {
      "text/plain": [
       "(-2.262157162740992, 2.2621571627409915)"
      ]
     },
     "execution_count": 37,
     "metadata": {},
     "output_type": "execute_result"
    }
   ],
   "source": [
    "# проверка\n",
    "alpha = 0.05\n",
    "n = 10\n",
    "t1 = stats.t.ppf(alpha/2, df=n-1)\n",
    "t2 = stats.t.ppf(1-alpha/2, df=n-1)\n",
    "t1, t2"
   ]
  },
  {
   "cell_type": "code",
   "execution_count": null,
   "id": "3c1c846b",
   "metadata": {},
   "outputs": [],
   "source": []
  }
 ],
 "metadata": {
  "kernelspec": {
   "display_name": "Python 3 (ipykernel)",
   "language": "python",
   "name": "python3"
  },
  "language_info": {
   "codemirror_mode": {
    "name": "ipython",
    "version": 3
   },
   "file_extension": ".py",
   "mimetype": "text/x-python",
   "name": "python",
   "nbconvert_exporter": "python",
   "pygments_lexer": "ipython3",
   "version": "3.10.9"
  }
 },
 "nbformat": 4,
 "nbformat_minor": 5
}
